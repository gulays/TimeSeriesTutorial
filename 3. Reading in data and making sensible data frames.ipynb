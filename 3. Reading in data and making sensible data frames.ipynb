{
 "cells": [
  {
   "cell_type": "code",
   "execution_count": 1,
   "metadata": {
    "collapsed": true
   },
   "outputs": [],
   "source": [
    "import pandas as pd\n",
    "import numpy as np"
   ]
  },
  {
   "cell_type": "code",
   "execution_count": 2,
   "metadata": {
    "collapsed": false
   },
   "outputs": [],
   "source": [
    "data = pd.read_fwf(\"http://www.cpc.ncep.noaa.gov/products/precip/CWlink/daily_ao_index/monthly.ao.index.b50.current.ascii\",\n",
    "                   parse_dates = [[0, 1]], infer_datetime_format = True, header = None,)"
   ]
  },
  {
   "cell_type": "code",
   "execution_count": 3,
   "metadata": {
    "collapsed": false
   },
   "outputs": [
    {
     "data": {
      "text/html": [
       "<div>\n",
       "<table border=\"1\" class=\"dataframe\">\n",
       "  <thead>\n",
       "    <tr style=\"text-align: right;\">\n",
       "      <th></th>\n",
       "      <th>0_1</th>\n",
       "      <th>2</th>\n",
       "    </tr>\n",
       "  </thead>\n",
       "  <tbody>\n",
       "    <tr>\n",
       "      <th>0</th>\n",
       "      <td>1950-01-01</td>\n",
       "      <td>-0.060310</td>\n",
       "    </tr>\n",
       "    <tr>\n",
       "      <th>1</th>\n",
       "      <td>1950-02-01</td>\n",
       "      <td>0.626810</td>\n",
       "    </tr>\n",
       "    <tr>\n",
       "      <th>2</th>\n",
       "      <td>1950-03-01</td>\n",
       "      <td>-0.008128</td>\n",
       "    </tr>\n",
       "    <tr>\n",
       "      <th>3</th>\n",
       "      <td>1950-04-01</td>\n",
       "      <td>0.555100</td>\n",
       "    </tr>\n",
       "    <tr>\n",
       "      <th>4</th>\n",
       "      <td>1950-05-01</td>\n",
       "      <td>0.071577</td>\n",
       "    </tr>\n",
       "  </tbody>\n",
       "</table>\n",
       "</div>"
      ],
      "text/plain": [
       "         0_1         2\n",
       "0 1950-01-01 -0.060310\n",
       "1 1950-02-01  0.626810\n",
       "2 1950-03-01 -0.008128\n",
       "3 1950-04-01  0.555100\n",
       "4 1950-05-01  0.071577"
      ]
     },
     "execution_count": 3,
     "metadata": {},
     "output_type": "execute_result"
    }
   ],
   "source": [
    "data.head()"
   ]
  },
  {
   "cell_type": "code",
   "execution_count": 4,
   "metadata": {
    "collapsed": true
   },
   "outputs": [],
   "source": [
    "data.columns = ['month', 'value']\n",
    "data.index = data.month\n",
    "data = data.drop('month', 1)"
   ]
  },
  {
   "cell_type": "code",
   "execution_count": 5,
   "metadata": {
    "collapsed": false
   },
   "outputs": [
    {
     "data": {
      "text/html": [
       "<div>\n",
       "<table border=\"1\" class=\"dataframe\">\n",
       "  <thead>\n",
       "    <tr style=\"text-align: right;\">\n",
       "      <th></th>\n",
       "      <th>value</th>\n",
       "    </tr>\n",
       "    <tr>\n",
       "      <th>month</th>\n",
       "      <th></th>\n",
       "    </tr>\n",
       "  </thead>\n",
       "  <tbody>\n",
       "    <tr>\n",
       "      <th>1950-01-01</th>\n",
       "      <td>-0.060310</td>\n",
       "    </tr>\n",
       "    <tr>\n",
       "      <th>1950-02-01</th>\n",
       "      <td>0.626810</td>\n",
       "    </tr>\n",
       "    <tr>\n",
       "      <th>1950-03-01</th>\n",
       "      <td>-0.008128</td>\n",
       "    </tr>\n",
       "    <tr>\n",
       "      <th>1950-04-01</th>\n",
       "      <td>0.555100</td>\n",
       "    </tr>\n",
       "    <tr>\n",
       "      <th>1950-05-01</th>\n",
       "      <td>0.071577</td>\n",
       "    </tr>\n",
       "  </tbody>\n",
       "</table>\n",
       "</div>"
      ],
      "text/plain": [
       "               value\n",
       "month               \n",
       "1950-01-01 -0.060310\n",
       "1950-02-01  0.626810\n",
       "1950-03-01 -0.008128\n",
       "1950-04-01  0.555100\n",
       "1950-05-01  0.071577"
      ]
     },
     "execution_count": 5,
     "metadata": {},
     "output_type": "execute_result"
    }
   ],
   "source": [
    "data.head()"
   ]
  },
  {
   "cell_type": "code",
   "execution_count": 6,
   "metadata": {
    "collapsed": false
   },
   "outputs": [
    {
     "data": {
      "text/html": [
       "<div>\n",
       "<table border=\"1\" class=\"dataframe\">\n",
       "  <thead>\n",
       "    <tr style=\"text-align: right;\">\n",
       "      <th></th>\n",
       "      <th>value</th>\n",
       "    </tr>\n",
       "    <tr>\n",
       "      <th>month</th>\n",
       "      <th></th>\n",
       "    </tr>\n",
       "  </thead>\n",
       "  <tbody>\n",
       "    <tr>\n",
       "      <th>1950-01-01</th>\n",
       "      <td>-0.060310</td>\n",
       "    </tr>\n",
       "    <tr>\n",
       "      <th>1950-02-01</th>\n",
       "      <td>0.626810</td>\n",
       "    </tr>\n",
       "    <tr>\n",
       "      <th>1950-03-01</th>\n",
       "      <td>-0.008128</td>\n",
       "    </tr>\n",
       "    <tr>\n",
       "      <th>1950-04-01</th>\n",
       "      <td>0.555100</td>\n",
       "    </tr>\n",
       "    <tr>\n",
       "      <th>1950-05-01</th>\n",
       "      <td>0.071577</td>\n",
       "    </tr>\n",
       "    <tr>\n",
       "      <th>1950-06-01</th>\n",
       "      <td>0.538570</td>\n",
       "    </tr>\n",
       "    <tr>\n",
       "      <th>1950-07-01</th>\n",
       "      <td>-0.802480</td>\n",
       "    </tr>\n",
       "    <tr>\n",
       "      <th>1950-08-01</th>\n",
       "      <td>-0.851010</td>\n",
       "    </tr>\n",
       "    <tr>\n",
       "      <th>1950-09-01</th>\n",
       "      <td>0.357970</td>\n",
       "    </tr>\n",
       "    <tr>\n",
       "      <th>1950-10-01</th>\n",
       "      <td>-0.378900</td>\n",
       "    </tr>\n",
       "    <tr>\n",
       "      <th>1950-11-01</th>\n",
       "      <td>-0.515110</td>\n",
       "    </tr>\n",
       "    <tr>\n",
       "      <th>1950-12-01</th>\n",
       "      <td>-1.928100</td>\n",
       "    </tr>\n",
       "    <tr>\n",
       "      <th>1951-01-01</th>\n",
       "      <td>-0.084969</td>\n",
       "    </tr>\n",
       "    <tr>\n",
       "      <th>1951-02-01</th>\n",
       "      <td>-0.399930</td>\n",
       "    </tr>\n",
       "    <tr>\n",
       "      <th>1951-03-01</th>\n",
       "      <td>-1.934100</td>\n",
       "    </tr>\n",
       "    <tr>\n",
       "      <th>1951-04-01</th>\n",
       "      <td>-0.776480</td>\n",
       "    </tr>\n",
       "    <tr>\n",
       "      <th>1951-05-01</th>\n",
       "      <td>-0.862780</td>\n",
       "    </tr>\n",
       "    <tr>\n",
       "      <th>1951-06-01</th>\n",
       "      <td>-0.917860</td>\n",
       "    </tr>\n",
       "    <tr>\n",
       "      <th>1951-07-01</th>\n",
       "      <td>0.090023</td>\n",
       "    </tr>\n",
       "    <tr>\n",
       "      <th>1951-08-01</th>\n",
       "      <td>-0.377410</td>\n",
       "    </tr>\n",
       "    <tr>\n",
       "      <th>1951-09-01</th>\n",
       "      <td>-0.817780</td>\n",
       "    </tr>\n",
       "    <tr>\n",
       "      <th>1951-10-01</th>\n",
       "      <td>-0.212910</td>\n",
       "    </tr>\n",
       "    <tr>\n",
       "      <th>1951-11-01</th>\n",
       "      <td>-0.068519</td>\n",
       "    </tr>\n",
       "    <tr>\n",
       "      <th>1951-12-01</th>\n",
       "      <td>1.987200</td>\n",
       "    </tr>\n",
       "    <tr>\n",
       "      <th>1952-01-01</th>\n",
       "      <td>0.368250</td>\n",
       "    </tr>\n",
       "    <tr>\n",
       "      <th>1952-02-01</th>\n",
       "      <td>-1.747200</td>\n",
       "    </tr>\n",
       "    <tr>\n",
       "      <th>1952-03-01</th>\n",
       "      <td>-1.859500</td>\n",
       "    </tr>\n",
       "    <tr>\n",
       "      <th>1952-04-01</th>\n",
       "      <td>0.538520</td>\n",
       "    </tr>\n",
       "    <tr>\n",
       "      <th>1952-05-01</th>\n",
       "      <td>-0.773510</td>\n",
       "    </tr>\n",
       "    <tr>\n",
       "      <th>1952-06-01</th>\n",
       "      <td>-0.440930</td>\n",
       "    </tr>\n",
       "    <tr>\n",
       "      <th>1952-07-01</th>\n",
       "      <td>0.383080</td>\n",
       "    </tr>\n",
       "    <tr>\n",
       "      <th>1952-08-01</th>\n",
       "      <td>-0.030367</td>\n",
       "    </tr>\n",
       "    <tr>\n",
       "      <th>1952-09-01</th>\n",
       "      <td>-0.383450</td>\n",
       "    </tr>\n",
       "    <tr>\n",
       "      <th>1952-10-01</th>\n",
       "      <td>-0.437170</td>\n",
       "    </tr>\n",
       "    <tr>\n",
       "      <th>1952-11-01</th>\n",
       "      <td>-1.890900</td>\n",
       "    </tr>\n",
       "    <tr>\n",
       "      <th>1952-12-01</th>\n",
       "      <td>-1.826700</td>\n",
       "    </tr>\n",
       "  </tbody>\n",
       "</table>\n",
       "</div>"
      ],
      "text/plain": [
       "               value\n",
       "month               \n",
       "1950-01-01 -0.060310\n",
       "1950-02-01  0.626810\n",
       "1950-03-01 -0.008128\n",
       "1950-04-01  0.555100\n",
       "1950-05-01  0.071577\n",
       "1950-06-01  0.538570\n",
       "1950-07-01 -0.802480\n",
       "1950-08-01 -0.851010\n",
       "1950-09-01  0.357970\n",
       "1950-10-01 -0.378900\n",
       "1950-11-01 -0.515110\n",
       "1950-12-01 -1.928100\n",
       "1951-01-01 -0.084969\n",
       "1951-02-01 -0.399930\n",
       "1951-03-01 -1.934100\n",
       "1951-04-01 -0.776480\n",
       "1951-05-01 -0.862780\n",
       "1951-06-01 -0.917860\n",
       "1951-07-01  0.090023\n",
       "1951-08-01 -0.377410\n",
       "1951-09-01 -0.817780\n",
       "1951-10-01 -0.212910\n",
       "1951-11-01 -0.068519\n",
       "1951-12-01  1.987200\n",
       "1952-01-01  0.368250\n",
       "1952-02-01 -1.747200\n",
       "1952-03-01 -1.859500\n",
       "1952-04-01  0.538520\n",
       "1952-05-01 -0.773510\n",
       "1952-06-01 -0.440930\n",
       "1952-07-01  0.383080\n",
       "1952-08-01 -0.030367\n",
       "1952-09-01 -0.383450\n",
       "1952-10-01 -0.437170\n",
       "1952-11-01 -1.890900\n",
       "1952-12-01 -1.826700"
      ]
     },
     "execution_count": 6,
     "metadata": {},
     "output_type": "execute_result"
    }
   ],
   "source": [
    "data['1950':'1952'] #What do you notice about the range of dates?"
   ]
  },
  {
   "cell_type": "code",
   "execution_count": 7,
   "metadata": {
    "collapsed": false
   },
   "outputs": [
    {
     "data": {
      "text/plain": [
       "(Timestamp('1950-01-01 00:00:00'), Timestamp('2017-08-01 00:00:00'))"
      ]
     },
     "execution_count": 7,
     "metadata": {},
     "output_type": "execute_result"
    }
   ],
   "source": [
    "# What is the empirical range of dates?\n",
    "min(data.index),  max(data.index)"
   ]
  },
  {
   "cell_type": "code",
   "execution_count": null,
   "metadata": {
    "collapsed": true
   },
   "outputs": [],
   "source": [
    "# How to visualize?"
   ]
  },
  {
   "cell_type": "code",
   "execution_count": 8,
   "metadata": {
    "collapsed": false
   },
   "outputs": [
    {
     "data": {
      "text/plain": [
       "pandas.tseries.index.DatetimeIndex"
      ]
     },
     "execution_count": 8,
     "metadata": {},
     "output_type": "execute_result"
    }
   ],
   "source": [
    "# What kind of index do we have?\n",
    "type(data.index)"
   ]
  },
  {
   "cell_type": "code",
   "execution_count": 9,
   "metadata": {
    "collapsed": false
   },
   "outputs": [
    {
     "data": {
      "text/html": [
       "<div>\n",
       "<table border=\"1\" class=\"dataframe\">\n",
       "  <thead>\n",
       "    <tr style=\"text-align: right;\">\n",
       "      <th></th>\n",
       "      <th>value</th>\n",
       "    </tr>\n",
       "    <tr>\n",
       "      <th>month</th>\n",
       "      <th></th>\n",
       "    </tr>\n",
       "  </thead>\n",
       "  <tbody>\n",
       "  </tbody>\n",
       "</table>\n",
       "</div>"
      ],
      "text/plain": [
       "Empty DataFrame\n",
       "Columns: [value]\n",
       "Index: []"
      ]
     },
     "execution_count": 9,
     "metadata": {},
     "output_type": "execute_result"
    }
   ],
   "source": [
    "data['1951-11-11':'1951-11-12']"
   ]
  },
  {
   "cell_type": "code",
   "execution_count": 10,
   "metadata": {
    "collapsed": false
   },
   "outputs": [],
   "source": [
    "# What if we want a period index?\n",
    "data_pd = data.to_period()"
   ]
  },
  {
   "cell_type": "code",
   "execution_count": 11,
   "metadata": {
    "collapsed": false
   },
   "outputs": [
    {
     "data": {
      "text/html": [
       "<div>\n",
       "<table border=\"1\" class=\"dataframe\">\n",
       "  <thead>\n",
       "    <tr style=\"text-align: right;\">\n",
       "      <th></th>\n",
       "      <th>value</th>\n",
       "    </tr>\n",
       "    <tr>\n",
       "      <th>month</th>\n",
       "      <th></th>\n",
       "    </tr>\n",
       "  </thead>\n",
       "  <tbody>\n",
       "    <tr>\n",
       "      <th>1951-11</th>\n",
       "      <td>-0.068519</td>\n",
       "    </tr>\n",
       "  </tbody>\n",
       "</table>\n",
       "</div>"
      ],
      "text/plain": [
       "            value\n",
       "month            \n",
       "1951-11 -0.068519"
      ]
     },
     "execution_count": 11,
     "metadata": {},
     "output_type": "execute_result"
    }
   ],
   "source": [
    "data_pd['1951-11-11':'1951-11-12']"
   ]
  },
  {
   "cell_type": "code",
   "execution_count": 12,
   "metadata": {
    "collapsed": false
   },
   "outputs": [
    {
     "data": {
      "text/html": [
       "<div>\n",
       "<table border=\"1\" class=\"dataframe\">\n",
       "  <thead>\n",
       "    <tr style=\"text-align: right;\">\n",
       "      <th></th>\n",
       "      <th>value</th>\n",
       "    </tr>\n",
       "    <tr>\n",
       "      <th>month</th>\n",
       "      <th></th>\n",
       "    </tr>\n",
       "  </thead>\n",
       "  <tbody>\n",
       "    <tr>\n",
       "      <th>1951-11</th>\n",
       "      <td>-0.068519</td>\n",
       "    </tr>\n",
       "    <tr>\n",
       "      <th>1951-12</th>\n",
       "      <td>1.987200</td>\n",
       "    </tr>\n",
       "    <tr>\n",
       "      <th>1952-01</th>\n",
       "      <td>0.368250</td>\n",
       "    </tr>\n",
       "  </tbody>\n",
       "</table>\n",
       "</div>"
      ],
      "text/plain": [
       "            value\n",
       "month            \n",
       "1951-11 -0.068519\n",
       "1951-12  1.987200\n",
       "1952-01  0.368250"
      ]
     },
     "execution_count": 12,
     "metadata": {},
     "output_type": "execute_result"
    }
   ],
   "source": [
    "data_pd['1951-11-11':'1952-01-12']"
   ]
  },
  {
   "cell_type": "code",
   "execution_count": null,
   "metadata": {
    "collapsed": true
   },
   "outputs": [],
   "source": [
    "# Which is more appropriate for this data?"
   ]
  },
  {
   "cell_type": "code",
   "execution_count": 13,
   "metadata": {
    "collapsed": false
   },
   "outputs": [
    {
     "name": "stdout",
     "output_type": "stream",
     "text": [
      "infer_datetime_format = True, no date parser\n",
      "1 loop, best of 3: 269 ms per loop\n",
      "infer_datetime_format = False, no date parser\n",
      "1 loop, best of 3: 281 ms per loop\n",
      "infer_datetime_format = True, date parser provided\n",
      "1 loop, best of 3: 315 ms per loop\n",
      "infer_datetime_format = False, date parser provided\n",
      "1 loop, best of 3: 284 ms per loop\n"
     ]
    }
   ],
   "source": [
    "# How do various data loads perform?\n",
    "import timeit\n",
    "\n",
    "print(\"infer_datetime_format = True, no date parser\")\n",
    "%timeit pd.read_fwf(\"http://www.cpc.ncep.noaa.gov/products/precip/CWlink/daily_ao_index/monthly.ao.index.b50.current.ascii\", parse_dates = [[0, 1]], infer_datetime_format = True, header = None,)\n",
    "\n",
    "print(\"infer_datetime_format = False, no date parser\")\n",
    "%timeit pd.read_fwf(\"http://www.cpc.ncep.noaa.gov/products/precip/CWlink/daily_ao_index/monthly.ao.index.b50.current.ascii\", parse_dates = [[0, 1]], infer_datetime_format = False, header = None,)\n",
    "\n",
    "print(\"infer_datetime_format = True, date parser provided\")\n",
    "dateparse = lambda x, y: pd.datetime.strptime('%s-%s'%(x,y), '%Y-%m')\n",
    "%timeit pd.read_fwf(\"http://www.cpc.ncep.noaa.gov/products/precip/CWlink/daily_ao_index/monthly.ao.index.b50.current.ascii\", parse_dates = [[0, 1]], infer_datetime_format = True, date_parser = dateparse,  header = None,)\n",
    "\n",
    "print(\"infer_datetime_format = False, date parser provided\")\n",
    "dateparse = lambda x, y: pd.datetime.strptime('%s-%s'%(x,y), '%Y-%m')\n",
    "%timeit pd.read_fwf(\"http://www.cpc.ncep.noaa.gov/products/precip/CWlink/daily_ao_index/monthly.ao.index.b50.current.ascii\", parse_dates = [[0, 1]], infer_datetime_format = False, date_parser = dateparse,  header = None,)"
   ]
  },
  {
   "cell_type": "code",
   "execution_count": 14,
   "metadata": {
    "collapsed": false
   },
   "outputs": [
    {
     "data": {
      "text/html": [
       "<div>\n",
       "<table border=\"1\" class=\"dataframe\">\n",
       "  <thead>\n",
       "    <tr style=\"text-align: right;\">\n",
       "      <th></th>\n",
       "      <th>day</th>\n",
       "      <th>hour</th>\n",
       "      <th>month</th>\n",
       "      <th>year</th>\n",
       "    </tr>\n",
       "  </thead>\n",
       "  <tbody>\n",
       "    <tr>\n",
       "      <th>0</th>\n",
       "      <td>4</td>\n",
       "      <td>2</td>\n",
       "      <td>2</td>\n",
       "      <td>2015</td>\n",
       "    </tr>\n",
       "    <tr>\n",
       "      <th>1</th>\n",
       "      <td>5</td>\n",
       "      <td>3</td>\n",
       "      <td>3</td>\n",
       "      <td>2016</td>\n",
       "    </tr>\n",
       "  </tbody>\n",
       "</table>\n",
       "</div>"
      ],
      "text/plain": [
       "   day  hour  month  year\n",
       "0    4     2      2  2015\n",
       "1    5     3      3  2016"
      ]
     },
     "execution_count": 14,
     "metadata": {},
     "output_type": "execute_result"
    }
   ],
   "source": [
    "# What if you already have the data frame and want to parse columns?\n",
    "df = pd.DataFrame({'year': [2015, 2016],'month': [2, 3],'day': [4, 5],'hour': [2, 3]})\n",
    "df"
   ]
  },
  {
   "cell_type": "code",
   "execution_count": 15,
   "metadata": {
    "collapsed": false
   },
   "outputs": [
    {
     "data": {
      "text/plain": [
       "0   2015-02-04 02:00:00\n",
       "1   2016-03-05 03:00:00\n",
       "dtype: datetime64[ns]"
      ]
     },
     "execution_count": 15,
     "metadata": {},
     "output_type": "execute_result"
    }
   ],
   "source": [
    "pd.to_datetime(df)"
   ]
  },
  {
   "cell_type": "code",
   "execution_count": 16,
   "metadata": {
    "collapsed": false
   },
   "outputs": [
    {
     "data": {
      "text/plain": [
       "0   2015-02-04\n",
       "1   2016-03-05\n",
       "dtype: datetime64[ns]"
      ]
     },
     "execution_count": 16,
     "metadata": {},
     "output_type": "execute_result"
    }
   ],
   "source": [
    "pd.to_datetime(df[['year', 'month', 'day']])"
   ]
  },
  {
   "cell_type": "code",
   "execution_count": null,
   "metadata": {
    "collapsed": true
   },
   "outputs": [],
   "source": [
    "# Does it work with other column names?"
   ]
  },
  {
   "cell_type": "code",
   "execution_count": null,
   "metadata": {
    "collapsed": true
   },
   "outputs": [],
   "source": [
    "# Go get your own time series data, load it in, and see what you can see\n",
    "# Hint: http://pandas.pydata.org/pandas-docs/stable/remote_data.html"
   ]
  },
  {
   "cell_type": "code",
   "execution_count": null,
   "metadata": {
    "collapsed": true
   },
   "outputs": [],
   "source": [
    "# 1. plot 2. get range of dates 3. convert between time and period index"
   ]
  },
  {
   "cell_type": "code",
   "execution_count": 29,
   "metadata": {
    "collapsed": false
   },
   "outputs": [
    {
     "name": "stdout",
     "output_type": "stream",
     "text": [
      "Populating the interactive namespace from numpy and matplotlib\n"
     ]
    }
   ],
   "source": [
    "from pylab import plot\n",
    "%pylab inline\n"
   ]
  },
  {
   "cell_type": "code",
   "execution_count": 30,
   "metadata": {
    "collapsed": false
   },
   "outputs": [
    {
     "data": {
      "text/plain": [
       "<matplotlib.axes._subplots.AxesSubplot at 0x21a642659e8>"
      ]
     },
     "execution_count": 30,
     "metadata": {},
     "output_type": "execute_result"
    },
    {
     "data": {
      "image/png": "[encoded data removed]",
      "text/plain": [
       "<matplotlib.figure.Figure at 0x21a642a8cf8>"
      ]
     },
     "metadata": {},
     "output_type": "display_data"
    }
   ],
   "source": [
    "data.plot()\n"
   ]
  },
  {
   "cell_type": "code",
   "execution_count": 31,
   "metadata": {
    "collapsed": false
   },
   "outputs": [
    {
     "data": {
      "text/plain": [
       "<matplotlib.axes._subplots.AxesSubplot at 0x21a642aea58>"
      ]
     },
     "execution_count": 31,
     "metadata": {},
     "output_type": "execute_result"
    },
    {
     "data": {
      "image/png": "[encoded data removed]",
      "text/plain": [
       "<matplotlib.figure.Figure at 0x21a642952b0>"
      ]
     },
     "metadata": {},
     "output_type": "display_data"
    }
   ],
   "source": [
    "data.cumsum().plot()\n"
   ]
  },
  {
   "cell_type": "code",
   "execution_count": 17,
   "metadata": {
    "collapsed": false
   },
   "outputs": [
    {
     "data": {
      "text/plain": [
       "2015-10-31    3\n",
       "2015-11-30    4\n",
       "2015-12-31    5\n",
       "Freq: M, dtype: int32"
      ]
     },
     "execution_count": 17,
     "metadata": {},
     "output_type": "execute_result"
    }
   ],
   "source": [
    "# Let's experiment with truncate convenience function\n",
    "ts = pd.Series(range(10), index = pd.date_range('7/31/2015', freq = 'M', periods = 10))\n",
    "ts.truncate(before='10/31/2015', after='12/31/2015')"
   ]
  },
  {
   "cell_type": "code",
   "execution_count": 18,
   "metadata": {
    "collapsed": false
   },
   "outputs": [
    {
     "data": {
      "text/plain": [
       "DatetimeIndex(['2015-07-31', '2015-09-30', '2016-01-31'], dtype='datetime64[ns]', freq=None)"
      ]
     },
     "execution_count": 18,
     "metadata": {},
     "output_type": "execute_result"
    }
   ],
   "source": [
    "# You can truncate in a way that breaks frequency\n",
    "ts[[0, 2, 6]].index"
   ]
  },
  {
   "cell_type": "code",
   "execution_count": 19,
   "metadata": {
    "collapsed": false
   },
   "outputs": [
    {
     "data": {
      "text/plain": [
       "DatetimeIndex(['2015-07-31', '2015-09-30', '2015-11-30', '2016-01-31',\n",
       "               '2016-03-31'],\n",
       "              dtype='datetime64[ns]', freq='2M')"
      ]
     },
     "execution_count": 19,
     "metadata": {},
     "output_type": "execute_result"
    }
   ],
   "source": [
    "# It will save you when it can\n",
    "ts.ix[0:10:2].index"
   ]
  },
  {
   "cell_type": "code",
   "execution_count": null,
   "metadata": {
    "collapsed": true
   },
   "outputs": [],
   "source": []
  }
 ],
 "metadata": {
  "kernelspec": {
   "display_name": "Python 3",
   "language": "python",
   "name": "python3"
  },
  "language_info": {
   "codemirror_mode": {
    "name": "ipython",
    "version": 3
   },
   "file_extension": ".py",
   "mimetype": "text/x-python",
   "name": "python",
   "nbconvert_exporter": "python",
   "pygments_lexer": "ipython3",
   "version": "3.6.0"
  }
 },
 "nbformat": 4,
 "nbformat_minor": 0
}
